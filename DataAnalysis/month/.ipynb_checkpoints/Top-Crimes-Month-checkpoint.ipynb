{
 "cells": [
  {
   "cell_type": "code",
   "execution_count": null,
   "metadata": {},
   "outputs": [],
   "source": [
    "#matplotlib.use('TkAgg')\n",
    "import matplotlib.pyplot as plt\n",
    "import numpy as np\n",
    "import pandas as pd\n",
    "from datetime import *\n",
    "from IPython.display import display\n",
    "%matplotlib inline\n",
    "plt.style.use('ggplot')\n",
    "\n",
    "#MONTH limits\n",
    "max=datetime.strptime('01/01/2006', \"%m/%d/%Y\").strftime('%m/%d/%Y')\n",
    "min=datetime.strptime('01/01/2017', \"%m/%d/%Y\").strftime('%m/%d/%Y')\n",
    "\n",
    "#load csv\n",
    "overall = pd.read_csv(\"overall-crime.csv\", header=None,)\n",
    "overall.columns = ['MONTH','OFNS_DESC','COUNT']\n",
    "overall=pd.to_datetime(overall['MONTH']).dt.month #pandas interprets NA by default as nulll\n",
    "\n",
    "bronx = pd.read_csv(\"bronx-crime.csv\", header=None,)\n",
    "bronx.columns = ['MONTH','OFNS_DESC','COUNT']\n",
    "bronx=pd.to_datetime(bronx['MONTH']).dt.month #extracting month\n",
    "\n",
    "brooklyn = pd.read_csv(\"brooklyn-crime.csv\", header=None,)\n",
    "brooklyn.columns = ['MONTH','OFNS_DESC','COUNT']\n",
    "brooklyn=pd.to_datetime(brooklyn['MONTH']).dt.month #extracting month\n",
    "\n",
    "manhattan = pd.read_csv(\"manhattan-crime.csv\", header=None,)\n",
    "manhattan.columns = ['MONTH','OFNS_DESC','COUNT']\n",
    "manhattan=pd.to_datetime(manhattan['MONTH']).dt.month #extracting month\n",
    "\n",
    "staten = pd.read_csv(\"staten-crime.csv\", header=None,)\n",
    "staten.columns = ['MONTH','OFNS_DESC','COUNT']\n",
    "staten=pd.to_datetime(staten['MONTH']).dt.month #extracting month\n",
    "\n",
    "queens = pd.read_csv(\"queens-crime.csv\", header=None,)\n",
    "queens.columns = ['MONTH','OFNS_DESC','COUNT']\n",
    "queens=pd.to_datetime(queens['MONTH']).dt.month #extracting month\n"
   ]
  },
  {
   "cell_type": "code",
   "execution_count": null,
   "metadata": {
    "scrolled": true
   },
   "outputs": [],
   "source": [
    "# #kycd & ofnc top 10 \n",
    "# overall=overall.sort_values(by='COUNT', ascending=False)\n",
    "# overall = overall.head(10)\n",
    "# overall.to_csv('top-overall.csv')\n",
    "\n",
    "# #staten\n",
    "# staten = staten.sort_values(by='COUNT', ascending=False)\n",
    "# staten=staten.head(10)\n",
    "# staten.to_csv('top-staten.csv')\n",
    "\n",
    "# #bronx\n",
    "# bronx = bronx.sort_values(by='COUNT', ascending=False)\n",
    "# bronx=bronx.head(10)\n",
    "# bronx.to_csv('top-bronx.csv')\n",
    "\n",
    "# #brooklyn\n",
    "# brooklyn = brooklyn.sort_values(by='COUNT', ascending=False)\n",
    "# brooklyn=brooklyn.head(10)\n",
    "# brooklyn.to_csv('top-brooklyn.csv')\n",
    "\n",
    "# #manhttan\n",
    "# manhattan=manhattan.sort_values(by='COUNT', ascending=False)\n",
    "# manhattan=manhattan.head(10)\n",
    "# manhattan.to_csv('top-manhattan.csv')\n",
    "\n",
    "# #queens\n",
    "# queens=queens.sort_values(by='COUNT', ascending=False)\n",
    "# queens=queens.head(10)\n",
    "# queens.to_csv('top-queens.csv')"
   ]
  },
  {
   "cell_type": "code",
   "execution_count": null,
   "metadata": {},
   "outputs": [],
   "source": [
    "#overall\n",
    "pivot_overall = overall.pivot(index='MONTH', columns='OFNS_DESC', values='COUNT')\n",
    "#pivot_overall = overall.set_index('HADEVELOPT')\n",
    "pivot_overall.plot(kind='bar',stacked=True,)\n",
    "#plt.legend(loc='upper right', bbox_to_anchor=(1.2, 0.8), title='OFNS_DESC')\n",
    "plt.legend(loc='upper right', bbox_to_anchor=(1.8, 0.8), title='OFNS_DESC')\n",
    "plt.title(\"Days at which Crimes were Highest\")\n",
    "plt.xlabel('MONTH')\n",
    "plt.ylabel('COUNT')\n",
    "plt.savefig(\"overall-crime-month.png\",bbox_inches='tight')"
   ]
  },
  {
   "cell_type": "code",
   "execution_count": null,
   "metadata": {},
   "outputs": [],
   "source": [
    "#bronx\n",
    "pivot_bronx = bronx.pivot(index='MONTH', columns='OFNS_DESC', values='COUNT')\n",
    "#pivot_bronx = bronx.set_index('HADEVELOPT')\n",
    "pivot_bronx.plot(kind='bar',stacked=True,)\n",
    "#plt.legend(loc='upper right', bbox_to_anchor=(1.2, 0.8), title='OFNS_DESC')\n",
    "plt.legend(loc='upper right', bbox_to_anchor=(1.8, 0.8), title='OFNS_DESC')\n",
    "plt.title(\"Months at which Crimes were Highest\")\n",
    "plt.xlabel('MONTH')\n",
    "plt.ylabel('COUNT')\n",
    "plt.savefig(\"bronx-crime-month.png\",bbox_inches='tight')"
   ]
  },
  {
   "cell_type": "code",
   "execution_count": null,
   "metadata": {},
   "outputs": [],
   "source": [
    "#brooklyn\n",
    "pivot_brooklyn= brooklyn.pivot(index='MONTH', columns='OFNS_DESC', values='COUNT')\n",
    "#pivot_brooklyn= brooklyn.set_index('HADEVELOPT')\n",
    "pivot_brooklyn.plot(kind='bar',stacked=True,)\n",
    "#plt.legend(loc='upper right', bbox_to_anchor=(1.2, 0.8), title='OFNS_DESC')\n",
    "plt.legend(loc='upper right', bbox_to_anchor=(1.6, 0.8), title='OFNS_DESC')\n",
    "plt.title(\"Months at which Crimes were Highest\")\n",
    "plt.xlabel('MONTH')\n",
    "plt.ylabel('COUNT')\n",
    "plt.savefig(\"brooklyn-crime-month.png\",bbox_inches='tight')"
   ]
  },
  {
   "cell_type": "code",
   "execution_count": null,
   "metadata": {},
   "outputs": [],
   "source": [
    "#manhattan\n",
    "pivot_manhattan= manhattan.pivot(index='MONTH', columns='OFNS_DESC', values='COUNT')\n",
    "#pivot_manhattan= manhattan.set_index('HADEVELOPT')\n",
    "pivot_manhattan.plot(kind='bar',stacked=True,)\n",
    "#plt.legend(loc='upper right', bbox_to_anchor=(1.2, 0.8), title='OFNS_DESC')\n",
    "plt.legend(loc='upper right', bbox_to_anchor=(1.4, 0.8), title='OFNS_DESC')\n",
    "plt.title(\"Months at which Crimes were Highest\")\n",
    "plt.xlabel('MONTH')\n",
    "plt.ylabel('COUNT')\n",
    "plt.savefig(\"manhattan-crime-month.png\",bbox_inches='tight')"
   ]
  },
  {
   "cell_type": "code",
   "execution_count": null,
   "metadata": {},
   "outputs": [],
   "source": [
    "#queens\n",
    "pivot_queens= queens.pivot(index='MONTH', columns='OFNS_DESC', values='COUNT')\n",
    "#pivot_queens= queens.set_index('HADEVELOPT')\n",
    "pivot_queens.plot(kind='bar',stacked=True,)\n",
    "#plt.legend(loc='upper right', bbox_to_anchor=(1.2, 0.8), title='OFNS_DESC')\n",
    "plt.legend(loc='upper right', bbox_to_anchor=(1.6, 0.8), title='OFNS_DESC')\n",
    "plt.title(\"Months at which Crimes were Highest\")\n",
    "plt.xlabel('MONTH')\n",
    "plt.ylabel('COUNT')\n",
    "plt.savefig(\"queens-crime-month.png\",bbox_inches='tight')"
   ]
  },
  {
   "cell_type": "code",
   "execution_count": null,
   "metadata": {},
   "outputs": [],
   "source": [
    "#staten\n",
    "pivot_staten= staten.pivot(index='MONTH', columns='OFNS_DESC', values='COUNT')\n",
    "#pivot_staten= staten.set_index('HADEVELOPT')\n",
    "pivot_staten.plot(kind='bar',stacked=True,)\n",
    "#plt.legend(loc='upper right', bbox_to_anchor=(1.2, 0.8), title='OFNS_DESC')\n",
    "plt.legend(loc='upper right', bbox_to_anchor=(1.6, 0.8), title='OFNS_DESC')\n",
    "plt.title(\"Months at which Crimes were Highest\")\n",
    "plt.xlabel('MONTH')\n",
    "plt.ylabel('COUNT')\n",
    "plt.savefig(\"staten-crime-month.png\",bbox_inches='tight')"
   ]
  },
  {
   "cell_type": "code",
   "execution_count": null,
   "metadata": {},
   "outputs": [],
   "source": []
  }
 ],
 "metadata": {
  "kernelspec": {
   "display_name": "Python 3",
   "language": "python",
   "name": "python3"
  },
  "language_info": {
   "codemirror_mode": {
    "name": "ipython",
    "version": 3
   },
   "file_extension": ".py",
   "mimetype": "text/x-python",
   "name": "python",
   "nbconvert_exporter": "python",
   "pygments_lexer": "ipython3",
   "version": "3.6.0"
  }
 },
 "nbformat": 4,
 "nbformat_minor": 2
}
