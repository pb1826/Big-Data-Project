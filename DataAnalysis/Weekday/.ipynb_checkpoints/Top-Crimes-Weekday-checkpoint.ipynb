{
 "cells": [
  {
   "cell_type": "code",
   "execution_count": 1,
   "metadata": {},
   "outputs": [
    {
     "ename": "FileNotFoundError",
     "evalue": "File b'overall-crime.csv' does not exist",
     "output_type": "error",
     "traceback": [
      "\u001b[1;31m---------------------------------------------------------------------------\u001b[0m",
      "\u001b[1;31mFileNotFoundError\u001b[0m                         Traceback (most recent call last)",
      "\u001b[1;32m<ipython-input-1-da218b7e6079>\u001b[0m in \u001b[0;36m<module>\u001b[1;34m()\u001b[0m\n\u001b[0;32m     17\u001b[0m \u001b[1;33m\u001b[0m\u001b[0m\n\u001b[0;32m     18\u001b[0m \u001b[1;31m#load csv\u001b[0m\u001b[1;33m\u001b[0m\u001b[1;33m\u001b[0m\u001b[0m\n\u001b[1;32m---> 19\u001b[1;33m \u001b[0moverall\u001b[0m \u001b[1;33m=\u001b[0m \u001b[0mpd\u001b[0m\u001b[1;33m.\u001b[0m\u001b[0mread_csv\u001b[0m\u001b[1;33m(\u001b[0m\u001b[1;34m\"overall-crime.csv\"\u001b[0m\u001b[1;33m,\u001b[0m \u001b[0mheader\u001b[0m\u001b[1;33m=\u001b[0m\u001b[1;32mNone\u001b[0m\u001b[1;33m,\u001b[0m\u001b[1;33m)\u001b[0m\u001b[1;33m\u001b[0m\u001b[0m\n\u001b[0m\u001b[0;32m     20\u001b[0m \u001b[0moverall\u001b[0m\u001b[1;33m.\u001b[0m\u001b[0mcolumns\u001b[0m \u001b[1;33m=\u001b[0m \u001b[1;33m[\u001b[0m\u001b[1;34m'WEEKDAY'\u001b[0m\u001b[1;33m,\u001b[0m\u001b[1;34m'COUNT'\u001b[0m\u001b[1;33m]\u001b[0m\u001b[1;33m\u001b[0m\u001b[0m\n\u001b[0;32m     21\u001b[0m \u001b[1;31m# overall['OFNS_DESC']=overall['OFNS_DESC'].str.strip()\u001b[0m\u001b[1;33m\u001b[0m\u001b[1;33m\u001b[0m\u001b[0m\n",
      "\u001b[1;32mc:\\users\\ninayar\\appdata\\local\\programs\\python\\python36-32\\lib\\site-packages\\pandas\\io\\parsers.py\u001b[0m in \u001b[0;36mparser_f\u001b[1;34m(filepath_or_buffer, sep, delimiter, header, names, index_col, usecols, squeeze, prefix, mangle_dupe_cols, dtype, engine, converters, true_values, false_values, skipinitialspace, skiprows, nrows, na_values, keep_default_na, na_filter, verbose, skip_blank_lines, parse_dates, infer_datetime_format, keep_date_col, date_parser, dayfirst, iterator, chunksize, compression, thousands, decimal, lineterminator, quotechar, quoting, escapechar, comment, encoding, dialect, tupleize_cols, error_bad_lines, warn_bad_lines, skipfooter, skip_footer, doublequote, delim_whitespace, as_recarray, compact_ints, use_unsigned, low_memory, buffer_lines, memory_map, float_precision)\u001b[0m\n\u001b[0;32m    653\u001b[0m                     skip_blank_lines=skip_blank_lines)\n\u001b[0;32m    654\u001b[0m \u001b[1;33m\u001b[0m\u001b[0m\n\u001b[1;32m--> 655\u001b[1;33m         \u001b[1;32mreturn\u001b[0m \u001b[0m_read\u001b[0m\u001b[1;33m(\u001b[0m\u001b[0mfilepath_or_buffer\u001b[0m\u001b[1;33m,\u001b[0m \u001b[0mkwds\u001b[0m\u001b[1;33m)\u001b[0m\u001b[1;33m\u001b[0m\u001b[0m\n\u001b[0m\u001b[0;32m    656\u001b[0m \u001b[1;33m\u001b[0m\u001b[0m\n\u001b[0;32m    657\u001b[0m     \u001b[0mparser_f\u001b[0m\u001b[1;33m.\u001b[0m\u001b[0m__name__\u001b[0m \u001b[1;33m=\u001b[0m \u001b[0mname\u001b[0m\u001b[1;33m\u001b[0m\u001b[0m\n",
      "\u001b[1;32mc:\\users\\ninayar\\appdata\\local\\programs\\python\\python36-32\\lib\\site-packages\\pandas\\io\\parsers.py\u001b[0m in \u001b[0;36m_read\u001b[1;34m(filepath_or_buffer, kwds)\u001b[0m\n\u001b[0;32m    403\u001b[0m \u001b[1;33m\u001b[0m\u001b[0m\n\u001b[0;32m    404\u001b[0m     \u001b[1;31m# Create the parser.\u001b[0m\u001b[1;33m\u001b[0m\u001b[1;33m\u001b[0m\u001b[0m\n\u001b[1;32m--> 405\u001b[1;33m     \u001b[0mparser\u001b[0m \u001b[1;33m=\u001b[0m \u001b[0mTextFileReader\u001b[0m\u001b[1;33m(\u001b[0m\u001b[0mfilepath_or_buffer\u001b[0m\u001b[1;33m,\u001b[0m \u001b[1;33m**\u001b[0m\u001b[0mkwds\u001b[0m\u001b[1;33m)\u001b[0m\u001b[1;33m\u001b[0m\u001b[0m\n\u001b[0m\u001b[0;32m    406\u001b[0m \u001b[1;33m\u001b[0m\u001b[0m\n\u001b[0;32m    407\u001b[0m     \u001b[1;32mif\u001b[0m \u001b[0mchunksize\u001b[0m \u001b[1;32mor\u001b[0m \u001b[0miterator\u001b[0m\u001b[1;33m:\u001b[0m\u001b[1;33m\u001b[0m\u001b[0m\n",
      "\u001b[1;32mc:\\users\\ninayar\\appdata\\local\\programs\\python\\python36-32\\lib\\site-packages\\pandas\\io\\parsers.py\u001b[0m in \u001b[0;36m__init__\u001b[1;34m(self, f, engine, **kwds)\u001b[0m\n\u001b[0;32m    762\u001b[0m             \u001b[0mself\u001b[0m\u001b[1;33m.\u001b[0m\u001b[0moptions\u001b[0m\u001b[1;33m[\u001b[0m\u001b[1;34m'has_index_names'\u001b[0m\u001b[1;33m]\u001b[0m \u001b[1;33m=\u001b[0m \u001b[0mkwds\u001b[0m\u001b[1;33m[\u001b[0m\u001b[1;34m'has_index_names'\u001b[0m\u001b[1;33m]\u001b[0m\u001b[1;33m\u001b[0m\u001b[0m\n\u001b[0;32m    763\u001b[0m \u001b[1;33m\u001b[0m\u001b[0m\n\u001b[1;32m--> 764\u001b[1;33m         \u001b[0mself\u001b[0m\u001b[1;33m.\u001b[0m\u001b[0m_make_engine\u001b[0m\u001b[1;33m(\u001b[0m\u001b[0mself\u001b[0m\u001b[1;33m.\u001b[0m\u001b[0mengine\u001b[0m\u001b[1;33m)\u001b[0m\u001b[1;33m\u001b[0m\u001b[0m\n\u001b[0m\u001b[0;32m    765\u001b[0m \u001b[1;33m\u001b[0m\u001b[0m\n\u001b[0;32m    766\u001b[0m     \u001b[1;32mdef\u001b[0m \u001b[0mclose\u001b[0m\u001b[1;33m(\u001b[0m\u001b[0mself\u001b[0m\u001b[1;33m)\u001b[0m\u001b[1;33m:\u001b[0m\u001b[1;33m\u001b[0m\u001b[0m\n",
      "\u001b[1;32mc:\\users\\ninayar\\appdata\\local\\programs\\python\\python36-32\\lib\\site-packages\\pandas\\io\\parsers.py\u001b[0m in \u001b[0;36m_make_engine\u001b[1;34m(self, engine)\u001b[0m\n\u001b[0;32m    983\u001b[0m     \u001b[1;32mdef\u001b[0m \u001b[0m_make_engine\u001b[0m\u001b[1;33m(\u001b[0m\u001b[0mself\u001b[0m\u001b[1;33m,\u001b[0m \u001b[0mengine\u001b[0m\u001b[1;33m=\u001b[0m\u001b[1;34m'c'\u001b[0m\u001b[1;33m)\u001b[0m\u001b[1;33m:\u001b[0m\u001b[1;33m\u001b[0m\u001b[0m\n\u001b[0;32m    984\u001b[0m         \u001b[1;32mif\u001b[0m \u001b[0mengine\u001b[0m \u001b[1;33m==\u001b[0m \u001b[1;34m'c'\u001b[0m\u001b[1;33m:\u001b[0m\u001b[1;33m\u001b[0m\u001b[0m\n\u001b[1;32m--> 985\u001b[1;33m             \u001b[0mself\u001b[0m\u001b[1;33m.\u001b[0m\u001b[0m_engine\u001b[0m \u001b[1;33m=\u001b[0m \u001b[0mCParserWrapper\u001b[0m\u001b[1;33m(\u001b[0m\u001b[0mself\u001b[0m\u001b[1;33m.\u001b[0m\u001b[0mf\u001b[0m\u001b[1;33m,\u001b[0m \u001b[1;33m**\u001b[0m\u001b[0mself\u001b[0m\u001b[1;33m.\u001b[0m\u001b[0moptions\u001b[0m\u001b[1;33m)\u001b[0m\u001b[1;33m\u001b[0m\u001b[0m\n\u001b[0m\u001b[0;32m    986\u001b[0m         \u001b[1;32melse\u001b[0m\u001b[1;33m:\u001b[0m\u001b[1;33m\u001b[0m\u001b[0m\n\u001b[0;32m    987\u001b[0m             \u001b[1;32mif\u001b[0m \u001b[0mengine\u001b[0m \u001b[1;33m==\u001b[0m \u001b[1;34m'python'\u001b[0m\u001b[1;33m:\u001b[0m\u001b[1;33m\u001b[0m\u001b[0m\n",
      "\u001b[1;32mc:\\users\\ninayar\\appdata\\local\\programs\\python\\python36-32\\lib\\site-packages\\pandas\\io\\parsers.py\u001b[0m in \u001b[0;36m__init__\u001b[1;34m(self, src, **kwds)\u001b[0m\n\u001b[0;32m   1603\u001b[0m         \u001b[0mkwds\u001b[0m\u001b[1;33m[\u001b[0m\u001b[1;34m'allow_leading_cols'\u001b[0m\u001b[1;33m]\u001b[0m \u001b[1;33m=\u001b[0m \u001b[0mself\u001b[0m\u001b[1;33m.\u001b[0m\u001b[0mindex_col\u001b[0m \u001b[1;32mis\u001b[0m \u001b[1;32mnot\u001b[0m \u001b[1;32mFalse\u001b[0m\u001b[1;33m\u001b[0m\u001b[0m\n\u001b[0;32m   1604\u001b[0m \u001b[1;33m\u001b[0m\u001b[0m\n\u001b[1;32m-> 1605\u001b[1;33m         \u001b[0mself\u001b[0m\u001b[1;33m.\u001b[0m\u001b[0m_reader\u001b[0m \u001b[1;33m=\u001b[0m \u001b[0mparsers\u001b[0m\u001b[1;33m.\u001b[0m\u001b[0mTextReader\u001b[0m\u001b[1;33m(\u001b[0m\u001b[0msrc\u001b[0m\u001b[1;33m,\u001b[0m \u001b[1;33m**\u001b[0m\u001b[0mkwds\u001b[0m\u001b[1;33m)\u001b[0m\u001b[1;33m\u001b[0m\u001b[0m\n\u001b[0m\u001b[0;32m   1606\u001b[0m \u001b[1;33m\u001b[0m\u001b[0m\n\u001b[0;32m   1607\u001b[0m         \u001b[1;31m# XXX\u001b[0m\u001b[1;33m\u001b[0m\u001b[1;33m\u001b[0m\u001b[0m\n",
      "\u001b[1;32mpandas\\_libs\\parsers.pyx\u001b[0m in \u001b[0;36mpandas._libs.parsers.TextReader.__cinit__ (pandas\\_libs\\parsers.c:4209)\u001b[1;34m()\u001b[0m\n",
      "\u001b[1;32mpandas\\_libs\\parsers.pyx\u001b[0m in \u001b[0;36mpandas._libs.parsers.TextReader._setup_parser_source (pandas\\_libs\\parsers.c:8873)\u001b[1;34m()\u001b[0m\n",
      "\u001b[1;31mFileNotFoundError\u001b[0m: File b'overall-crime.csv' does not exist"
     ]
    }
   ],
   "source": [
    "#matplotlib.use('TkAgg')\n",
    "import matplotlib.pyplot as plt\n",
    "import numpy as np\n",
    "import pandas as pd\n",
    "from datetime import *\n",
    "from IPython.display import display\n",
    "import calendar\n",
    "from datetime import datetime as dt\n",
    "\n",
    "%matplotlib inline\n",
    "plt.style.use('ggplot')\n",
    "\n",
    "#MONTH limits\n",
    "\n",
    "#oflist=['PETIT LARCENY','HARRASSMENT 2','ASSAULT 3 & RELATED OFFENSES','CRIMINAL MISCHIEF & RELATED OF','GRAND LARCENY','OFF. AGNST PUB ORD SENSBLTY &','DANGEROUS DRUGS','ROBBERY','BURGLARY','FELONY ASSAULT']\n",
    "\n",
    "\n",
    "#load csv\n",
    "overall = pd.read_csv(\"overall-crime.csv\", header=None,)\n",
    "overall.columns = ['WEEKDAY','COUNT']\n",
    "# overall['OFNS_DESC']=overall['OFNS_DESC'].str.strip()\n",
    "# overall=overall[overall['OFNS_DESC'].isin(oflist)] #ofsc list\n",
    "\n",
    "bronx = pd.read_csv(\"bronx-crime.csv\", header=None,)\n",
    "bronx.columns = ['WEEKDAY','COUNT']\n",
    "# bronx['OFNS_DESC']=bronx['OFNS_DESC'].str.strip()\n",
    "# bronx=bronx[bronx['OFNS_DESC'].isin(oflist)]\n",
    "#bronx=bronx[(min<=bronx['MONTH']) & (bronx['MONTH']<max)] #pandas interprets NA by default as nulll\n",
    "\n",
    "brooklyn = pd.read_csv(\"brooklyn-crime.csv\", header=None,)\n",
    "brooklyn.columns = ['WEEKDAY','COUNT']\n",
    "# brooklyn['OFNS_DESC']=brooklyn['OFNS_DESC'].str.strip()\n",
    "# brooklyn=brooklyn[brooklyn['OFNS_DESC'].isin(oflist)] #ofsc list\n",
    "#brooklyn=brooklyn[(min<=brooklyn['MONTH']) & (brooklyn['MONTH']<max)] #pandas interprets NA by default as nulll\n",
    "\n",
    "manhattan = pd.read_csv(\"manhattan-crime.csv\", header=None,)\n",
    "manhattan.columns = ['WEEKDAY','COUNT']\n",
    "# manhattan['OFNS_DESC']=manhattan['OFNS_DESC'].str.strip()\n",
    "# manhattan=manhattan[manhattan['OFNS_DESC'].isin(oflist)] #ofsc list\n",
    "#manhattan=manhattan[(min<=manhattan['MONTH']) & (manhattan['MONTH']<max)] #pandas interprets NA by default as nulll\n",
    "\n",
    "staten = pd.read_csv(\"staten-crime.csv\", header=None,)\n",
    "staten.columns = ['WEEKDAY','COUNT']\n",
    "# staten['OFNS_DESC']=staten['OFNS_DESC'].str.strip()\n",
    "# staten=staten[staten['OFNS_DESC'].isin(oflist)] #ofsc list\n",
    "#staten=staten[(min<=staten['MONTH']) & (staten['MONTH']<max)] #pandas interprets NA by default as nulll\n",
    "\n",
    "queens = pd.read_csv(\"queens-crime.csv\", header=None,)\n",
    "queens.columns = ['WEEKDAY','COUNT']\n",
    "# queens['OFNS_DESC']=queens['OFNS_DESC'].str.strip()\n",
    "# queens=queens[queens['OFNS_DESC'].isin(oflist)] #ofsc list\n",
    "#queens=queens[(min<=queens['MONTH']) & (queens['MONTH']<max)] #pandas interprets NA by default as nulll"
   ]
  },
  {
   "cell_type": "code",
   "execution_count": null,
   "metadata": {
    "scrolled": true
   },
   "outputs": [],
   "source": [
    "#kycd & ofnc top 10 \n",
    "overall=overall.sort_values(by='COUNT', ascending=False)\n",
    "#overall = overall.head(10)\n",
    "#overall = overall.groupby('OFNS_DESC')\n",
    "#overall.to_csv('top-overall.csv')\n",
    "\n",
    "#staten\n",
    "staten = staten.sort_values(by='COUNT', ascending=False)\n",
    "#staten=staten.head(10)\n",
    "#staten.to_csv('top-staten.csv')\n",
    "\n",
    "#bronx\n",
    "bronx = bronx.sort_values(by='COUNT', ascending=False)\n",
    "#bronx=bronx.head(10)\n",
    "#bronx.to_csv('top-bronx.csv')\n",
    "\n",
    "#brooklyn\n",
    "brooklyn = brooklyn.sort_values(by='COUNT', ascending=False)\n",
    "#brooklyn=brooklyn.head(10)\n",
    "#brooklyn.to_csv('top-brooklyn.csv')\n",
    "\n",
    "#manhttan\n",
    "manhattan=manhattan.sort_values(by='COUNT', ascending=False)\n",
    "#manhattan=manhattan.head(10)\n",
    "#manhattan.to_csv('top-manhattan.csv')\n",
    "\n",
    "#queens\n",
    "queens=queens.sort_values(by='COUNT', ascending=False)\n",
    "#queens=queens.head(10)\n",
    "#queens.to_csv('top-queens.csv')"
   ]
  },
  {
   "cell_type": "code",
   "execution_count": null,
   "metadata": {
    "scrolled": true
   },
   "outputs": [],
   "source": [
    "#overall\n",
    "#pivot_overall = overall.pivot(index='WEEKDAY', columns='OFNS_DESC', values='COUNT')\n",
    "pivot_overall = overall.set_index('WEEKDAY')\n",
    "pivot_overall.plot(kind='bar',stacked='true',colormap='Paired')\n",
    "#plt.legend(loc='upper right', bbox_to_anchor=(1.2, 0.8), title='OFNS_DESC')\n",
    "plt.xticks( np.arange(0,31))\n",
    "plt.legend(loc='upper right', bbox_to_anchor=(1.8, 1.2), title='OFNS_DESC')\n",
    "plt.title(\"WEEKDAYs at which Crimes were Highest\")\n",
    "plt.xlabel('WEEKDAY')\n",
    "plt.ylabel('COUNT')\n",
    "plt.savefig(\"overall-crime-WEEKDAY-bar.png\",bbox_inches='tight')"
   ]
  },
  {
   "cell_type": "code",
   "execution_count": null,
   "metadata": {},
   "outputs": [],
   "source": [
    "#week\n",
    "overall_week=overall\n",
    "overall_week['WEEKDAY']=pd.to_datetime(overall['WEEKDAY'], format='%d').dt.weekWEEKDAY\n",
    "overall_week['COUNT']=overall_week.groupby('WEEKDAY')['COUNT'].transform('sum')\n",
    "#overall_week['WEEKDAY']=overall_week.groupby('WEEKDAY')['WEEKDAY']\n",
    "\n",
    "#overall_week['COUNT']=overall_week.groupby(['WEEKDAY'])['WEEKDAY'].transform('sum')\n",
    "overall_week.to_csv('WEEKDAY-overall.csv')\n",
    "overall_week = overall_week.set_index('WEEKDAY')\n",
    "overall_week.plot(kind='bar',stacked='true',colormap='Paired')\n",
    "#plt.legend(loc='upper right', bbox_to_anchor=(1.2, 0.8), title='OFNS_DESC')\n",
    "#plt.xticks( np.arange(0,6), calendar.WEEKDAY_abbr[0:6])\n",
    "plt.legend(loc='upper right', bbox_to_anchor=(1.8, 1.2), title='OFNS_DESC')\n",
    "plt.title(\"WeekWEEKDAYs at which Crimes were Highest\")\n",
    "plt.xlabel('WEEKDAY')\n",
    "plt.ylabel('COUNT')\n",
    "plt.savefig(\"overall-crime-WEEKDAY-bar-week.png\",bbox_inches='tight')\n",
    "\n",
    "\n",
    "# print(overall_week)"
   ]
  },
  {
   "cell_type": "code",
   "execution_count": null,
   "metadata": {},
   "outputs": [],
   "source": [
    "#bronx\n",
    "#pivot_bronx = bronx.pivot(index='WEEKDAY', columns='OFNS_DESC', values='COUNT')\n",
    "pivot_bronx = bronx.set_index('WEEKDAY')\n",
    "pivot_bronx.plot(kind='bar',stacked='true',colormap='Paired')\n",
    "plt.xticks( np.arange(0,31))\n",
    "#plt.legend(loc='upper right', bbox_to_anchor=(1.2, 0.8), title='OFNS_DESC')\n",
    "plt.legend(loc='upper right', bbox_to_anchor=(1.8, 0.8), title='OFNS_DESC')\n",
    "plt.title(\"WEEKDAYs at which Crimes were Highest - Bronx\")\n",
    "plt.xlabel('WEEKDAY')\n",
    "plt.ylabel('COUNT')\n",
    "plt.savefig(\"bronx-crime-WEEKDAY-bar.png\",bbox_inches='tight')"
   ]
  },
  {
   "cell_type": "code",
   "execution_count": null,
   "metadata": {},
   "outputs": [],
   "source": [
    "#brooklyn\n",
    "#pivot_brooklyn= brooklyn.pivot(index='WEEKDAY', columns='OFNS_DESC', values='COUNT')\n",
    "pivot_brooklyn= brooklyn.set_index('WEEKDAY')\n",
    "pivot_brooklyn.plot(kind='bar',stacked='true',colormap='Paired')\n",
    "plt.xticks( np.arange(0,31))\n",
    "#plt.legend(loc='upper right', bbox_to_anchor=(1.2, 0.8), title='OFNS_DESC')\n",
    "plt.legend(loc='upper right', bbox_to_anchor=(1.8, 0.8), title='OFNS_DESC')\n",
    "plt.title(\"WEEKDAYs at which Crimes were Highest - Brooklyn\")\n",
    "plt.xlabel('WEEKDAY')\n",
    "plt.ylabel('COUNT')\n",
    "plt.savefig(\"brooklyn-crime-WEEKDAY-bar.png\",bbox_inches='tight')"
   ]
  },
  {
   "cell_type": "code",
   "execution_count": null,
   "metadata": {},
   "outputs": [],
   "source": [
    "#manhattan\n",
    "#pivot_manhattan= manhattan.pivot(index='WEEKDAY', columns='OFNS_DESC', values='COUNT')\n",
    "pivot_manhattan= manhattan.set_index('WEEKDAY')\n",
    "pivot_manhattan.plot(kind='bar',stacked='true',colormap='Paired',)\n",
    "plt.xticks( np.arange(0,31))\n",
    "#plt.legend(loc='upper right', bbox_to_anchor=(1.2, 0.8), title='OFNS_DESC')\n",
    "plt.legend(loc='upper right', bbox_to_anchor=(1.8, 0.8), title='OFNS_DESC')\n",
    "plt.title(\"WEEKDAYs at which Crimes were Highest - Manhattan\")\n",
    "plt.xlabel('WEEKDAY')\n",
    "plt.ylabel('COUNT')\n",
    "plt.savefig(\"manhattan-crime-WEEKDAY-bar.png\",bbox_inches='tight')"
   ]
  },
  {
   "cell_type": "code",
   "execution_count": null,
   "metadata": {},
   "outputs": [],
   "source": [
    "#queens\n",
    "# pivot_queens= queens.pivot(index='WEEKDAY', columns='OFNS_DESC', values='COUNT')\n",
    "pivot_queens= queens.set_index('WEEKDAY')\n",
    "pivot_queens.plot(kind='bar',stacked='true',colormap='Paired')\n",
    "plt.xticks( np.arange(0,31))\n",
    "#plt.legend(loc='upper right', bbox_to_anchor=(1.2, 0.8), title='OFNS_DESC')\n",
    "plt.legend(loc='upper right', bbox_to_anchor=(1.8, 0.8), title='OFNS_DESC')\n",
    "plt.title(\"WEEKDAYs at which Crimes were Highest - Queens\")\n",
    "plt.xlabel('WEEKDAY')\n",
    "plt.ylabel('COUNT')\n",
    "plt.savefig(\"queens-crime-WEEKDAY-bar.png\",bbox_inches='tight')"
   ]
  },
  {
   "cell_type": "code",
   "execution_count": null,
   "metadata": {},
   "outputs": [],
   "source": [
    "#staten\n",
    "# pivot_staten= staten.pivot(index='WEEKDAY', columns='OFNS_DESC', values='COUNT')\n",
    "pivot_staten= staten.set_index('WEEKDAY')\n",
    "pivot_staten.plot(kind='bar',stacked='true',colormap='Paired',)\n",
    "plt.xticks( np.arange(0,31))\n",
    "#plt.legend(loc='upper right', bbox_to_anchor=(1.2, 0.8), title='OFNS_DESC')\n",
    "plt.legend(loc='upper right', bbox_to_anchor=(1.8, 0.8), title='OFNS_DESC')\n",
    "plt.title(\"WEEKDAYs at which Crimes were Highest - Staten Island\")\n",
    "plt.xlabel('WEEKDAY')\n",
    "plt.ylabel('COUNT')\n",
    "plt.savefig(\"staten-crime-WEEKDAY-bar.png\",bbox_inches='tight')"
   ]
  },
  {
   "cell_type": "code",
   "execution_count": null,
   "metadata": {},
   "outputs": [],
   "source": []
  }
 ],
 "metadata": {
  "kernelspec": {
   "display_name": "Python 3",
   "language": "python",
   "name": "python3"
  },
  "language_info": {
   "codemirror_mode": {
    "name": "ipython",
    "version": 3
   },
   "file_extension": ".py",
   "mimetype": "text/x-python",
   "name": "python",
   "nbconvert_exporter": "python",
   "pygments_lexer": "ipython3",
   "version": "3.6.0"
  }
 },
 "nbformat": 4,
 "nbformat_minor": 2
}
