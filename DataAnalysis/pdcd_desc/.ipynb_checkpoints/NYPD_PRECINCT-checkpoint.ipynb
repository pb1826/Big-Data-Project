{
 "cells": [
  {
   "cell_type": "code",
   "execution_count": 1,
   "metadata": {},
   "outputs": [
    {
     "ename": "ValueError",
     "evalue": "Length mismatch: Expected axis has 3 elements, new values have 2 elements",
     "output_type": "error",
     "traceback": [
      "\u001b[1;31m---------------------------------------------------------------------------\u001b[0m",
      "\u001b[1;31mValueError\u001b[0m                                Traceback (most recent call last)",
      "\u001b[1;32m<ipython-input-1-23b01f260167>\u001b[0m in \u001b[0;36m<module>\u001b[1;34m()\u001b[0m\n\u001b[0;32m     10\u001b[0m \u001b[1;31m#load csv\u001b[0m\u001b[1;33m\u001b[0m\u001b[1;33m\u001b[0m\u001b[0m\n\u001b[0;32m     11\u001b[0m \u001b[0moverall\u001b[0m \u001b[1;33m=\u001b[0m \u001b[0mpd\u001b[0m\u001b[1;33m.\u001b[0m\u001b[0mread_csv\u001b[0m\u001b[1;33m(\u001b[0m\u001b[1;34m\"overall-crime.csv\"\u001b[0m\u001b[1;33m,\u001b[0m \u001b[0mheader\u001b[0m\u001b[1;33m=\u001b[0m\u001b[1;32mNone\u001b[0m\u001b[1;33m,\u001b[0m\u001b[1;33m)\u001b[0m\u001b[1;33m\u001b[0m\u001b[0m\n\u001b[1;32m---> 12\u001b[1;33m \u001b[0moverall\u001b[0m\u001b[1;33m.\u001b[0m\u001b[0mcolumns\u001b[0m \u001b[1;33m=\u001b[0m \u001b[1;33m[\u001b[0m\u001b[1;34m'PRECINCT'\u001b[0m\u001b[1;33m,\u001b[0m \u001b[1;34m'COUNT'\u001b[0m\u001b[1;33m]\u001b[0m\u001b[1;33m\u001b[0m\u001b[0m\n\u001b[0m\u001b[0;32m     13\u001b[0m \u001b[0mbronx\u001b[0m \u001b[1;33m=\u001b[0m \u001b[0mpd\u001b[0m\u001b[1;33m.\u001b[0m\u001b[0mread_csv\u001b[0m\u001b[1;33m(\u001b[0m\u001b[1;34m\"bronx-crime.csv\"\u001b[0m\u001b[1;33m,\u001b[0m \u001b[0mheader\u001b[0m\u001b[1;33m=\u001b[0m\u001b[1;32mNone\u001b[0m\u001b[1;33m,\u001b[0m\u001b[1;33m)\u001b[0m\u001b[1;33m\u001b[0m\u001b[0m\n\u001b[0;32m     14\u001b[0m \u001b[0mbronx\u001b[0m\u001b[1;33m.\u001b[0m\u001b[0mcolumns\u001b[0m \u001b[1;33m=\u001b[0m \u001b[1;33m[\u001b[0m\u001b[1;34m'PRECINCT'\u001b[0m\u001b[1;33m,\u001b[0m \u001b[1;34m'COUNT'\u001b[0m\u001b[1;33m]\u001b[0m\u001b[1;33m\u001b[0m\u001b[0m\n",
      "\u001b[1;32mc:\\users\\ninayar\\appdata\\local\\programs\\python\\python36-32\\lib\\site-packages\\pandas\\core\\generic.py\u001b[0m in \u001b[0;36m__setattr__\u001b[1;34m(self, name, value)\u001b[0m\n\u001b[0;32m   3092\u001b[0m         \u001b[1;32mtry\u001b[0m\u001b[1;33m:\u001b[0m\u001b[1;33m\u001b[0m\u001b[0m\n\u001b[0;32m   3093\u001b[0m             \u001b[0mobject\u001b[0m\u001b[1;33m.\u001b[0m\u001b[0m__getattribute__\u001b[0m\u001b[1;33m(\u001b[0m\u001b[0mself\u001b[0m\u001b[1;33m,\u001b[0m \u001b[0mname\u001b[0m\u001b[1;33m)\u001b[0m\u001b[1;33m\u001b[0m\u001b[0m\n\u001b[1;32m-> 3094\u001b[1;33m             \u001b[1;32mreturn\u001b[0m \u001b[0mobject\u001b[0m\u001b[1;33m.\u001b[0m\u001b[0m__setattr__\u001b[0m\u001b[1;33m(\u001b[0m\u001b[0mself\u001b[0m\u001b[1;33m,\u001b[0m \u001b[0mname\u001b[0m\u001b[1;33m,\u001b[0m \u001b[0mvalue\u001b[0m\u001b[1;33m)\u001b[0m\u001b[1;33m\u001b[0m\u001b[0m\n\u001b[0m\u001b[0;32m   3095\u001b[0m         \u001b[1;32mexcept\u001b[0m \u001b[0mAttributeError\u001b[0m\u001b[1;33m:\u001b[0m\u001b[1;33m\u001b[0m\u001b[0m\n\u001b[0;32m   3096\u001b[0m             \u001b[1;32mpass\u001b[0m\u001b[1;33m\u001b[0m\u001b[0m\n",
      "\u001b[1;32mpandas\\_libs\\src\\properties.pyx\u001b[0m in \u001b[0;36mpandas._libs.lib.AxisProperty.__set__ (pandas\\_libs\\lib.c:45255)\u001b[1;34m()\u001b[0m\n",
      "\u001b[1;32mc:\\users\\ninayar\\appdata\\local\\programs\\python\\python36-32\\lib\\site-packages\\pandas\\core\\generic.py\u001b[0m in \u001b[0;36m_set_axis\u001b[1;34m(self, axis, labels)\u001b[0m\n\u001b[0;32m    471\u001b[0m \u001b[1;33m\u001b[0m\u001b[0m\n\u001b[0;32m    472\u001b[0m     \u001b[1;32mdef\u001b[0m \u001b[0m_set_axis\u001b[0m\u001b[1;33m(\u001b[0m\u001b[0mself\u001b[0m\u001b[1;33m,\u001b[0m \u001b[0maxis\u001b[0m\u001b[1;33m,\u001b[0m \u001b[0mlabels\u001b[0m\u001b[1;33m)\u001b[0m\u001b[1;33m:\u001b[0m\u001b[1;33m\u001b[0m\u001b[0m\n\u001b[1;32m--> 473\u001b[1;33m         \u001b[0mself\u001b[0m\u001b[1;33m.\u001b[0m\u001b[0m_data\u001b[0m\u001b[1;33m.\u001b[0m\u001b[0mset_axis\u001b[0m\u001b[1;33m(\u001b[0m\u001b[0maxis\u001b[0m\u001b[1;33m,\u001b[0m \u001b[0mlabels\u001b[0m\u001b[1;33m)\u001b[0m\u001b[1;33m\u001b[0m\u001b[0m\n\u001b[0m\u001b[0;32m    474\u001b[0m         \u001b[0mself\u001b[0m\u001b[1;33m.\u001b[0m\u001b[0m_clear_item_cache\u001b[0m\u001b[1;33m(\u001b[0m\u001b[1;33m)\u001b[0m\u001b[1;33m\u001b[0m\u001b[0m\n\u001b[0;32m    475\u001b[0m \u001b[1;33m\u001b[0m\u001b[0m\n",
      "\u001b[1;32mc:\\users\\ninayar\\appdata\\local\\programs\\python\\python36-32\\lib\\site-packages\\pandas\\core\\internals.py\u001b[0m in \u001b[0;36mset_axis\u001b[1;34m(self, axis, new_labels)\u001b[0m\n\u001b[0;32m   2834\u001b[0m             raise ValueError('Length mismatch: Expected axis has %d elements, '\n\u001b[0;32m   2835\u001b[0m                              \u001b[1;34m'new values have %d elements'\u001b[0m \u001b[1;33m%\u001b[0m\u001b[1;33m\u001b[0m\u001b[0m\n\u001b[1;32m-> 2836\u001b[1;33m                              (old_len, new_len))\n\u001b[0m\u001b[0;32m   2837\u001b[0m \u001b[1;33m\u001b[0m\u001b[0m\n\u001b[0;32m   2838\u001b[0m         \u001b[0mself\u001b[0m\u001b[1;33m.\u001b[0m\u001b[0maxes\u001b[0m\u001b[1;33m[\u001b[0m\u001b[0maxis\u001b[0m\u001b[1;33m]\u001b[0m \u001b[1;33m=\u001b[0m \u001b[0mnew_labels\u001b[0m\u001b[1;33m\u001b[0m\u001b[0m\n",
      "\u001b[1;31mValueError\u001b[0m: Length mismatch: Expected axis has 3 elements, new values have 2 elements"
     ]
    }
   ],
   "source": [
    "#matplotlib.use('TkAgg')\n",
    "import matplotlib.pyplot as plt\n",
    "import numpy as np\n",
    "import pandas as pd\n",
    "from IPython.display import display\n",
    "%matplotlib inline\n",
    "plt.style.use('ggplot')\n",
    "\n",
    "\n",
    "#load csv\n",
    "overall = pd.read_csv(\"overall-crime.csv\", header=None,)\n",
    "overall.columns = ['PRECINCT', 'COUNT']\n",
    "bronx = pd.read_csv(\"bronx-crime.csv\", header=None,)\n",
    "bronx.columns = ['PRECINCT', 'COUNT']\n",
    "\n",
    "brooklyn = pd.read_csv(\"brooklyn-crime.csv\", header=None,)\n",
    "brooklyn.columns = ['PRECINCT', 'COUNT']\n",
    "\n",
    "manhattan = pd.read_csv(\"manhattan-crime.csv\", header=None,)\n",
    "manhattan.columns = ['PRECINCT', 'COUNT']\n",
    "\n",
    "staten = pd.read_csv(\"staten-crime.csv\", header=None,)\n",
    "staten.columns = ['PRECINCT', 'COUNT']\n",
    "\n",
    "queens = pd.read_csv(\"queens-crime.csv\", header=None,)\n",
    "queens.columns = ['PRECINCT', 'COUNT']"
   ]
  },
  {
   "cell_type": "code",
   "execution_count": null,
   "metadata": {
    "scrolled": true
   },
   "outputs": [],
   "source": [
    "#kycd & ofnc top 10 \n",
    "overall=overall.sort_values(by='COUNT', ascending=False)\n",
    "overall = overall.head(10)\n",
    "overall.to_csv('top-overall.csv')"
   ]
  },
  {
   "cell_type": "code",
   "execution_count": null,
   "metadata": {},
   "outputs": [],
   "source": [
    "#staten\n",
    "staten = staten.sort_values(by='COUNT', ascending=False)\n",
    "staten=staten.head(10)\n",
    "staten.to_csv('top-staten.csv')"
   ]
  },
  {
   "cell_type": "code",
   "execution_count": null,
   "metadata": {},
   "outputs": [],
   "source": [
    "#bronx\n",
    "bronx = bronx.sort_values(by='COUNT', ascending=False)\n",
    "bronx=bronx.head(10)\n",
    "bronx.to_csv('top-bronx.csv')"
   ]
  },
  {
   "cell_type": "code",
   "execution_count": null,
   "metadata": {},
   "outputs": [],
   "source": [
    "#brooklyn\n",
    "brooklyn = brooklyn.sort_values(by='COUNT', ascending=False)\n",
    "brooklyn=brooklyn.head(10)\n",
    "brooklyn.to_csv('top-brooklyn.csv')"
   ]
  },
  {
   "cell_type": "code",
   "execution_count": null,
   "metadata": {},
   "outputs": [],
   "source": [
    "#manhttan\n",
    "manhattan=manhattan.sort_values(by='COUNT', ascending=False)\n",
    "manhattan=manhattan.head(10)\n",
    "manhattan.to_csv('top-manhattan.csv')"
   ]
  },
  {
   "cell_type": "code",
   "execution_count": null,
   "metadata": {},
   "outputs": [],
   "source": [
    "#queens\n",
    "queens=queens.sort_values(by='COUNT', ascending=False)\n",
    "queens=queens.head(10)\n",
    "queens.to_csv('top-queens.csv')"
   ]
  },
  {
   "cell_type": "code",
   "execution_count": null,
   "metadata": {},
   "outputs": [],
   "source": [
    "#overall\n",
    "# pivot_overall = overall.pivot(index='PD_DESC', columns='PD_CD', values='COUNT')\n",
    "# pivot_overall.plot(kind='bar',stacked=True,)\n",
    "overall.plot(kind='bar',stacked=True,)\n",
    "plt.legend(loc='upper right', bbox_to_anchor=(1.2, 0.8), title='PD_CD')\n",
    "plt.title(\"Top 10 Crimes in NYC by Precinct\")\n",
    "plt.xlabel('PRECINCT')\n",
    "plt.ylabel('COUNT')\n",
    "plt.savefig(\"crime-precint-wise.png\",bbox_inches='tight')"
   ]
  },
  {
   "cell_type": "code",
   "execution_count": null,
   "metadata": {},
   "outputs": [],
   "source": [
    "#bronx\n",
    "# pivot_bronx = bronx.pivot(index='PD_DESC', columns='PD_CD', values='COUNT')\n",
    "bronx.plot(kind='bar',stacked=True,)\n",
    "plt.legend(loc='upper right', bbox_to_anchor=(1.2, 0.8), title='PD_CD')\n",
    "plt.title(\"Top 10 Crimes in Bronx by Precinct\")\n",
    "plt.xlabel('PRECINCT')\n",
    "plt.ylabel('COUNT')\n",
    "plt.savefig(\"bronx-crime-precinct-wise.png\",bbox_inches='tight')"
   ]
  },
  {
   "cell_type": "code",
   "execution_count": null,
   "metadata": {},
   "outputs": [],
   "source": [
    "#brooklyn\n",
    "# pivot_brooklyn = brooklyn.pivot(index='PD_DESC', columns='PD_CD', values='COUNT')\n",
    "brooklyn.plot(kind='bar',stacked=True,)\n",
    "plt.legend(loc='upper right', bbox_to_anchor=(1.2, 0.8), title='PD_CD')\n",
    "plt.title(\"Top 10 Crimes in Brooklyn by Precinct\")\n",
    "plt.xlabel('PRECINCT')\n",
    "plt.ylabel('COUNT')\n",
    "plt.savefig(\"brooklyn-crime-precinct-wise.png\",bbox_inches='tight')"
   ]
  },
  {
   "cell_type": "code",
   "execution_count": null,
   "metadata": {},
   "outputs": [],
   "source": [
    "#manhattan\n",
    "# pivot_manhattan = manhattan.pivot(index='PD_DESC', columns='PD_CD', values='COUNT')\n",
    "manhattan.plot(kind='bar',stacked=True,)\n",
    "plt.legend(loc='upper right', bbox_to_anchor=(1.2, 0.8), title='PD_CD')\n",
    "plt.title(\"Top 10 Crimes in Manhattan by Precint\")\n",
    "plt.xlabel('PRECINCT')\n",
    "plt.ylabel('COUNT')\n",
    "plt.savefig(\"manhattan-crime-precinct-wise.png\",bbox_inches='tight')"
   ]
  },
  {
   "cell_type": "code",
   "execution_count": null,
   "metadata": {},
   "outputs": [],
   "source": [
    "#queens\n",
    "#pivot_queens = queens.pivot(index='PD_DESC', columns='PD_CD', values='COUNT')\n",
    "queens.plot(kind='bar',stacked=True,)\n",
    "plt.legend(loc='upper right', bbox_to_anchor=(1.2, 0.8), title='PD_CD')\n",
    "plt.title(\"Top 10 Crimes in Queens by Precinct\")\n",
    "plt.xlabel('PRECINCT')\n",
    "plt.ylabel('COUNT')\n",
    "plt.savefig(\"queens-crime-precinct-wise.png\",bbox_inches='tight')"
   ]
  },
  {
   "cell_type": "code",
   "execution_count": null,
   "metadata": {},
   "outputs": [],
   "source": [
    "#staten\n",
    "# pivot_staten = staten.pivot(index='PD_DESC', columns='PD_CD', values='COUNT')\n",
    "staten.plot(kind='bar',stacked=True,)\n",
    "plt.legend(loc='upper right', bbox_to_anchor=(1.2, 0.8), title='PD_CD')\n",
    "plt.title(\"Top 10 Crimes in Staten Island by Precinct\")\n",
    "plt.xlabel('PRECINCT')\n",
    "plt.ylabel('COUNT')\n",
    "plt.savefig(\"staten-crime.png\",bbox_inches='tight')"
   ]
  },
  {
   "cell_type": "code",
   "execution_count": null,
   "metadata": {},
   "outputs": [],
   "source": []
  }
 ],
 "metadata": {
  "kernelspec": {
   "display_name": "Python 3",
   "language": "python",
   "name": "python3"
  },
  "language_info": {
   "codemirror_mode": {
    "name": "ipython",
    "version": 3
   },
   "file_extension": ".py",
   "mimetype": "text/x-python",
   "name": "python",
   "nbconvert_exporter": "python",
   "pygments_lexer": "ipython3",
   "version": "3.6.0"
  }
 },
 "nbformat": 4,
 "nbformat_minor": 2
}
