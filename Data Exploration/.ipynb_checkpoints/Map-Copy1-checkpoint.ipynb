{
 "cells": [
  {
   "cell_type": "code",
   "execution_count": 2,
   "metadata": {},
   "outputs": [],
   "source": [
    "#matplotlib.use('TkAgg')\n",
    "import matplotlib.pyplot as plt\n",
    "import numpy as np\n",
    "import pandas as pd\n",
    "from datetime import datetime as dt\n",
    "from IPython.display import display\n",
    "import folium\n",
    "\n",
    "%matplotlib inline\n",
    "plt.style.use('ggplot')\n"
   ]
  },
  {
   "cell_type": "code",
   "execution_count": 3,
   "metadata": {},
   "outputs": [
    {
     "ename": "NameError",
     "evalue": "name 'icon_url' is not defined",
     "output_type": "error",
     "traceback": [
      "\u001b[1;31m---------------------------------------------------------------------------\u001b[0m",
      "\u001b[1;31mNameError\u001b[0m                                 Traceback (most recent call last)",
      "\u001b[1;32m<ipython-input-3-82abbaa34d6d>\u001b[0m in \u001b[0;36m<module>\u001b[1;34m()\u001b[0m\n\u001b[0;32m     19\u001b[0m \u001b[1;31m# create empty map zoomed in on San Francisco\u001b[0m\u001b[1;33m\u001b[0m\u001b[1;33m\u001b[0m\u001b[0m\n\u001b[0;32m     20\u001b[0m \u001b[0mmap\u001b[0m \u001b[1;33m=\u001b[0m \u001b[0mfolium\u001b[0m\u001b[1;33m.\u001b[0m\u001b[0mMap\u001b[0m\u001b[1;33m(\u001b[0m\u001b[0mlocation\u001b[0m\u001b[1;33m=\u001b[0m\u001b[0mNYC_COORDINATES\u001b[0m\u001b[1;33m,\u001b[0m \u001b[0mzoom_start\u001b[0m\u001b[1;33m=\u001b[0m\u001b[1;36m5\u001b[0m\u001b[1;33m)\u001b[0m\u001b[1;33m\u001b[0m\u001b[0m\n\u001b[1;32m---> 21\u001b[1;33m icon = folium.features.CustomIcon(icon_url,\n\u001b[0m\u001b[0;32m     22\u001b[0m                                       icon_size=(14, 14))\n\u001b[0;32m     23\u001b[0m \u001b[1;31m# add a marker for every record in the filtered data, use a clustered view\u001b[0m\u001b[1;33m\u001b[0m\u001b[1;33m\u001b[0m\u001b[0m\n",
      "\u001b[1;31mNameError\u001b[0m: name 'icon_url' is not defined"
     ]
    }
   ],
   "source": [
    "#load csv\n",
    "fields = ['Latitude','Longitude','OFNS_DESC']\n",
    "#oflist=['PETIT LARCENY','HARRASSMENT 2','ASSAULT 3 & RELATED OFFENSES','CRIMINAL MISCHIEF & RELATED OF','GRAND LARCENY','OFF. AGNST PUB ORD SENSBLTY &','DANGEROUS DRUGS','ROBBERY','BURGLARY','FELONY ASSAULT']\n",
    "oflist=['PETIT LARCENY']\n",
    "\n",
    "cleaned = pd.read_csv(\"cleaned.csv\", usecols=fields,)\n",
    "length = cleaned.count\n",
    "cleaned=cleaned[cleaned['OFNS_DESC'].isin(oflist)] #ofsc list\n",
    "\n",
    "subfields = ['Station Latitude', 'Station Longitude']\n",
    "subway = pd.read_csv(\"subway.csv\", usecols=subfields)\n",
    "\n",
    "\n",
    "cleaned=cleaned.head(10000)\n",
    "subway= subway.head(10000)\n",
    "# cleaned['COUNT']=cleaned.groupby(['LAT','LON'])['LAT','LON'].transform('count')\n",
    "# cleaned=cleaned.drop_duplicates()\n",
    "NYC_COORDINATES=[40.8448, -73.8648]\n",
    "# create empty map zoomed in on San Francisco\n",
    "map = folium.Map(location=NYC_COORDINATES, zoom_start=5)\n",
    "# icon = folium.features.CustomIcon(icon_url,\n",
    "#                                       icon_size=(14, 14))\n",
    "# add a marker for every record in the filtered data, use a clustered view\n",
    "cleaned.apply(lambda row:folium.Marker(location=[row[\"Latitude\"], row[\"Longitude\"]]).add_to(map),axis = 1)\n",
    "\n",
    "subway.apply(lambda row:folium.Marker(location=[row[\"Station Latitude\"], row[\"Station Longitude\"]],\\\n",
    "                                      icon=folium.Icon(color='red',icon='info-sign')).add_to(map),axis = 1)\n",
    "\n",
    "\n",
    "map\n",
    "map.save('/tmp/map.html')\n"
   ]
  },
  {
   "cell_type": "code",
   "execution_count": null,
   "metadata": {},
   "outputs": [],
   "source": []
  }
 ],
 "metadata": {
  "kernelspec": {
   "display_name": "Python 3",
   "language": "python",
   "name": "python3"
  },
  "language_info": {
   "codemirror_mode": {
    "name": "ipython",
    "version": 3
   },
   "file_extension": ".py",
   "mimetype": "text/x-python",
   "name": "python",
   "nbconvert_exporter": "python",
   "pygments_lexer": "ipython3",
   "version": "3.6.0"
  }
 },
 "nbformat": 4,
 "nbformat_minor": 2
}
