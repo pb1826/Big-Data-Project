{
 "cells": [
  {
   "cell_type": "code",
   "execution_count": null,
   "metadata": {},
   "outputs": [],
   "source": [
    "#matplotlib.use('TkAgg')\n",
    "import matplotlib.pyplot as plt\n",
    "import numpy as np\n",
    "import pandas as pd\n",
    "from datetime import *\n",
    "from IPython.display import display\n",
    "%matplotlib inline\n",
    "plt.style.use('ggplot')\n",
    "\n",
    "# columns required\n",
    "fields = ['CMPLNT_FR_DT', 'OFNS_DESC']\n",
    "#dates\n",
    "dates=['10/31/2006','10/31/2007','10/31/2008', '10/31/2009','10/31/2010','10/31/2011','10/31/2012','10/31/2013', '10/31/2014', '10/31/2015','10/31/2016']\n",
    "\n",
    "#load csv\n",
    "cleaned = pd.read_csv(\"cleaned.csv\", usecols=fields,)\n",
    "cleaned=cleaned[(cleaned['CMPLNT_FR_DT'].isin(dates))] #pandas interprets NA by default as nulll\n",
    "cleaned.plot(kind='bar',stacked=True,)\n"
   ]
  },
  {
   "cell_type": "code",
   "execution_count": null,
   "metadata": {},
   "outputs": [],
   "source": []
  }
 ],
 "metadata": {
  "kernelspec": {
   "display_name": "Python 3",
   "language": "python",
   "name": "python3"
  },
  "language_info": {
   "codemirror_mode": {
    "name": "ipython",
    "version": 3
   },
   "file_extension": ".py",
   "mimetype": "text/x-python",
   "name": "python",
   "nbconvert_exporter": "python",
   "pygments_lexer": "ipython3",
   "version": "3.6.0"
  }
 },
 "nbformat": 4,
 "nbformat_minor": 2
}
