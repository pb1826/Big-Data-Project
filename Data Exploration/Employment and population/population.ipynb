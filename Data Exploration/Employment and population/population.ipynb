{
 "cells": [
  {
   "cell_type": "code",
   "execution_count": 1,
   "metadata": {},
   "outputs": [],
   "source": [
    "import pandas as pd\n",
    "import numpy as np\n",
    "import matplotlib.pyplot as plt\n",
    "\n",
    "plt.style.use('ggplot')"
   ]
  },
  {
   "cell_type": "code",
   "execution_count": null,
   "metadata": {},
   "outputs": [
    {
     "name": "stderr",
     "output_type": "stream",
     "text": [
      "/Library/Frameworks/Python.framework/Versions/3.6/lib/python3.6/site-packages/IPython/core/interactiveshell.py:2728: DtypeWarning: Columns (17) have mixed types. Specify dtype option on import or set low_memory=False.\n",
      "  interactivity=interactivity, compiler=compiler, result=result)\n"
     ]
    }
   ],
   "source": [
    "df1 = pd.read_csv(\"/Users/priyankabhadoriya/downloads/part2/Employment and population/cleaned.csv\", parse_dates=['CMPLNT_FR_DT'])\n",
    "df2 = pd.read_csv(\"/Users/priyankabhadoriya/downloads/part2/Employment and population/census-estimate.csv\")\n",
    "\n",
    "#df2 = df2[df2.County != 'New York City']"
   ]
  },
  {
   "cell_type": "code",
   "execution_count": null,
   "metadata": {},
   "outputs": [],
   "source": [
    "#BRONX\n",
    "dfBronx = df2[df2.County == 'Bronx'].sort_values('Year')\n",
    "dfBronx['Count'] = df1[df1.BORO_NM == \"BRONX\"].CMPLNT_FR_DT.dt.year.value_counts().sort_index().values\n",
    "dfBronx = dfBronx.assign(Per100k = lambda dfBronx: ((dfBronx['Count']/dfBronx['Population Estimate'])*100000))"
   ]
  },
  {
   "cell_type": "code",
   "execution_count": null,
   "metadata": {},
   "outputs": [],
   "source": [
    "#BROOKLYN\n",
    "dfBrooklyn = df2[df2.County == 'Brooklyn'].sort_values('Year')\n",
    "dfBrooklyn['Count'] = df1[df1.BORO_NM == \"BROOKLYN\"].CMPLNT_FR_DT.dt.year.value_counts().sort_index().values\n",
    "dfBrooklyn = dfBrooklyn.assign(Per100k = lambda dfBrooklyn: ((dfBrooklyn['Count']/dfBrooklyn['Population Estimate'])*100000))"
   ]
  },
  {
   "cell_type": "code",
   "execution_count": null,
   "metadata": {},
   "outputs": [],
   "source": [
    "#MANHATTAN\n",
    "dfManhattan = df2[df2.County == 'Manhattan'].sort_values('Year')\n",
    "dfManhattan['Count'] = df1[df1.BORO_NM == \"MANHATTAN\"].CMPLNT_FR_DT.dt.year.value_counts().sort_index().values\n",
    "dfManhattan = dfManhattan.assign(Per100k = lambda dfManhattan: ((dfManhattan['Count']/dfManhattan['Population Estimate'])*100000))"
   ]
  },
  {
   "cell_type": "code",
   "execution_count": null,
   "metadata": {},
   "outputs": [],
   "source": [
    "#QUEENS\n",
    "dfQueens = df2[df2.County == 'Queens'].sort_values('Year')\n",
    "dfQueens['Count'] = df1[df1.BORO_NM == \"QUEENS\"].CMPLNT_FR_DT.dt.year.value_counts().sort_index().values\n",
    "dfQueens = dfQueens.assign(Per100k = lambda dfQueens: ((dfQueens['Count']/dfQueens['Population Estimate'])*100000))"
   ]
  },
  {
   "cell_type": "code",
   "execution_count": null,
   "metadata": {},
   "outputs": [],
   "source": [
    "#STATEN ISLAND\n",
    "dfSI = df2[df2.County == 'Staten Island'].sort_values('Year')\n",
    "dfSI['Count'] = df1[df1.BORO_NM == \"STATEN ISLAND\"].CMPLNT_FR_DT.dt.year.value_counts().sort_index().values\n",
    "dfSI = dfSI.assign(Per100k = lambda dfSI: ((dfSI['Count']/dfSI['Population Estimate'])*100000))"
   ]
  },
  {
   "cell_type": "code",
   "execution_count": null,
   "metadata": {},
   "outputs": [],
   "source": [
    "dfTest = pd.DataFrame(index = [2006,2007,2008,2009,2010,2011,2012,2013,2014,2015])\n",
    "dfTest['Bronx'] = dfBronx.Per100k.values\n",
    "dfTest['Brooklyn'] = dfBrooklyn.Per100k.values\n",
    "dfTest['Manhattan'] = dfManhattan.Per100k.values\n",
    "dfTest['Queens'] = dfQueens.Per100k.values\n",
    "dfTest['Staten Island'] = dfSI.Per100k.values"
   ]
  },
  {
   "cell_type": "code",
   "execution_count": null,
   "metadata": {},
   "outputs": [],
   "source": [
    "ax = dfTest.plot(figsize=(15,13))\n",
    "ax.set_title('Reported Crime Numbers Per 100k Population')\n",
    "ax.set_ylabel('Number of Incidents')\n",
    "plt.savefig(\"./per100k-all-boroughs.png\")\n",
    "plt.clf()"
   ]
  },
  {
   "cell_type": "code",
   "execution_count": null,
   "metadata": {},
   "outputs": [],
   "source": []
  }
 ],
 "metadata": {
  "kernelspec": {
   "display_name": "Python 3",
   "language": "python",
   "name": "python3"
  },
  "language_info": {
   "codemirror_mode": {
    "name": "ipython",
    "version": 3
   },
   "file_extension": ".py",
   "mimetype": "text/x-python",
   "name": "python",
   "nbconvert_exporter": "python",
   "pygments_lexer": "ipython3",
   "version": "3.6.2"
  }
 },
 "nbformat": 4,
 "nbformat_minor": 2
}
