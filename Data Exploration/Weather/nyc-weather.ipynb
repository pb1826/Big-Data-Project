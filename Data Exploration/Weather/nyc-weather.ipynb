{
 "cells": [
  {
   "cell_type": "code",
   "execution_count": null,
   "metadata": {},
   "outputs": [],
   "source": [
    "from datetime import datetime\n",
    "import matplotlib.pyplot as plt\n",
    "import matplotlib.dates as mdates\n",
    "import numpy as np\n",
    "import os\n",
    "import pandas as pd\n",
    "import seaborn as sns\n",
    "import time\n",
    "plt.style.use('ggplot')\n",
    "\n",
    "%matplotlib inline"
   ]
  },
  {
   "cell_type": "code",
   "execution_count": null,
   "metadata": {},
   "outputs": [],
   "source": [
    "#bronx\n",
    "bronx = pd.read_csv(\"bronx.csv\",names=['YEAR','COUNT'])\n",
    "#removing headers\n",
    "bronx = bronx.loc[1:]\n",
    "bronx\n",
    "\n",
    "#brooklyn\n",
    "brooklyn = pd.read_csv(\"brooklyn.csv\",names=['YEAR','COUNT'])\n",
    "#removing headers\n",
    "brooklyn = brooklyn.loc[1:]\n",
    "brooklyn\n",
    "\n",
    "#manhattan\n",
    "manhattan = pd.read_csv(\"manhattan.csv\",names=['YEAR','COUNT'])\n",
    "#removing headers\n",
    "manhattan= manhattan.loc[1:]\n",
    "manhattan\n",
    "\n",
    "#queens\n",
    "queens = pd.read_csv(\"queens.csv\",names=['YEAR','COUNT'])\n",
    "#removing headers\n",
    "queens = queens.loc[1:]\n",
    "queens\n",
    "\n",
    "#staten\n",
    "\n",
    "staten = pd.read_csv(\"staten.csv\",names=['YEAR','COUNT'])\n",
    "#removing headers\n",
    "staten = staten.loc[1:]\n",
    "staten\n",
    "\n"
   ]
  },
  {
   "cell_type": "code",
   "execution_count": null,
   "metadata": {},
   "outputs": [
    {
     "data": {
      "image/png": "[encoded data removed]",
      "text/plain": [
       "<matplotlib.figure.Figure at 0x11c3a7780>"
      ]
     },
     "metadata": {},
     "output_type": "display_data"
    }
   ],
   "source": [
    "pivot_bronx = bronx.set_index('YEAR')\n",
    "pivot_bronx.plot(kind='bar',stacked=True,)\n",
    "#plt.legend(loc='upper right', bbox_to_anchor=(1.2, 0.8), title='OFNS_DESC')\n",
    "plt.legend(loc='upper right', bbox_to_anchor=(1.7, 0.8), title='COUNT')\n",
    "plt.title(\"Crimes by the YEAR for FEB - Bronx\")\n",
    "plt.xlabel('YEAR')\n",
    "plt.ylabel('COUNT')\n",
    "plt.savefig(\"bronx-crime-YEAR-only.png\",bbox_inches='tight')\n",
    "plt.show()"
   ]
  },
  {
   "cell_type": "code",
   "execution_count": null,
   "metadata": {},
   "outputs": [],
   "source": [
    "#brooklyn\n",
    "#pivot_brooklyn= brooklyn.pivot(index='YEAR', columns='OFNS_DESC', values='COUNT')\n",
    "pivot_brooklyn= brooklyn.set_index('YEAR')\n",
    "pivot_brooklyn.plot(kind='bar',stacked=True,)\n",
    "#plt.legend(loc='upper right', bbox_to_anchor=(1.2, 0.8), title='OFNS_DESC')\n",
    "plt.legend(loc='upper right', bbox_to_anchor=(1.7, 0.8), title='COUNT')\n",
    "plt.title(\"Crimes by the YEAR for FEB - Brooklyn\")\n",
    "plt.xlabel('YEAR')\n",
    "plt.ylabel('COUNT')\n",
    "plt.savefig(\"brooklyn-crime-YEAR.png\",bbox_inches='tight')"
   ]
  },
  {
   "cell_type": "code",
   "execution_count": null,
   "metadata": {},
   "outputs": [],
   "source": [
    "#manhattan\n",
    "#pivot_manhattan= manhattan.pivot(index='YEAR', columns='OFNS_DESC', values='COUNT')\n",
    "pivot_manhattan= manhattan.set_index('YEAR')\n",
    "pivot_manhattan.plot(kind='bar',stacked=True,)\n",
    "#plt.legend(loc='upper right', bbox_to_anchor=(1.2, 0.8), title='OFNS_DESC')\n",
    "plt.legend(loc='upper right', bbox_to_anchor=(1.7, 0.8), title='COUNT')\n",
    "plt.title(\"Crimes by the YEAR for FEB- Manhattan\")\n",
    "plt.xlabel('YEAR')\n",
    "plt.ylabel('COUNT')\n",
    "plt.savefig(\"manhattan-crime-YEAR.png\",bbox_inches='tight')"
   ]
  },
  {
   "cell_type": "code",
   "execution_count": null,
   "metadata": {},
   "outputs": [],
   "source": [
    "#queens\n",
    "#pivot_queens= queens.pivot(index='YEAR', columns='OFNS_DESC', values='COUNT')\n",
    "pivot_queens= queens.set_index('YEAR')\n",
    "pivot_queens.plot(kind='bar',stacked=True,)\n",
    "#plt.legend(loc='upper right', bbox_to_anchor=(1.2, 0.8), title='OFNS_DESC')\n",
    "plt.legend(loc='upper right', bbox_to_anchor=(1.7, 0.8), title='COUNT')\n",
    "plt.title(\"Crimes by the YEAR - Queens\")\n",
    "plt.xlabel('YEAR')\n",
    "plt.ylabel('COUNT')\n",
    "plt.savefig(\"queens-crime-YEAR.png\",bbox_inches='tight')"
   ]
  },
  {
   "cell_type": "code",
   "execution_count": null,
   "metadata": {},
   "outputs": [],
   "source": [
    "#staten\n",
    "#pivot_staten= staten.pivot(index='YEAR', columns='OFNS_DESC', values='COUNT')\n",
    "pivot_staten= staten.set_index('YEAR')\n",
    "pivot_staten.plot(kind='bar',stacked=True,)\n",
    "#plt.legend(loc='upper right', bbox_to_anchor=(1.2, 0.8), title='OFNS_DESC')\n",
    "plt.legend(loc='upper right', bbox_to_anchor=(1.7, 0.8), title='COUNT')\n",
    "plt.title(\"Crimes by the YEAR for FEB - Staten\")\n",
    "plt.xlabel('YEAR')\n",
    "plt.ylabel('COUNT')\n",
    "plt.savefig(\"staten-crime-YEAR.png\",bbox_inches='tight')"
   ]
  },
  {
   "cell_type": "code",
   "execution_count": null,
   "metadata": {},
   "outputs": [],
   "source": []
  }
 ],
 "metadata": {
  "kernelspec": {
   "display_name": "Python 3",
   "language": "python",
   "name": "python3"
  },
  "language_info": {
   "codemirror_mode": {
    "name": "ipython",
    "version": 3
   },
   "file_extension": ".py",
   "mimetype": "text/x-python",
   "name": "python",
   "nbconvert_exporter": "python",
   "pygments_lexer": "ipython3",
   "version": "3.6.2"
  }
 },
 "nbformat": 4,
 "nbformat_minor": 2
}
