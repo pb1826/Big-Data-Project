{
 "cells": [
  {
   "cell_type": "code",
   "execution_count": 4,
   "metadata": {},
   "outputs": [],
   "source": [
    "#matplotlib.use('TkAgg')\n",
    "import matplotlib.pyplot as plt\n",
    "import numpy as np\n",
    "import pandas as pd\n",
    "from datetime import datetime as dt\n",
    "from IPython.display import display\n",
    "import folium\n",
    "\n",
    "%matplotlib inline\n",
    "plt.style.use('ggplot')\n"
   ]
  },
  {
   "cell_type": "code",
   "execution_count": null,
   "metadata": {},
   "outputs": [],
   "source": [
    "#load csv\n",
    "fields = ['Latitude','Longitude','OFNS_DESC']\n",
    "#oflist=['PETIT LARCENY','HARRASSMENT 2','ASSAULT 3 & RELATED OFFENSES','CRIMINAL MISCHIEF & RELATED OF','GRAND LARCENY','OFF. AGNST PUB ORD SENSBLTY &','DANGEROUS DRUGS','ROBBERY','BURGLARY','FELONY ASSAULT']\n",
    "oflist=['PETIT LARCENY']\n",
    "\n",
    "cleaned = pd.read_csv(\"cleaned.csv\", usecols=fields,)\n",
    "length = cleaned.count\n",
    "cleaned=cleaned[cleaned['OFNS_DESC'].isin(oflist)] #ofsc list\n",
    "\n",
    "subfields = ['Station Latitude', 'Station Longitude']\n",
    "subway = pd.read_csv(\"subway.csv\", usecols=subfields)\n",
    "\n",
    "\n",
    "cleaned=cleaned.head(10000)\n",
    "subway= subway.head(10000)\n",
    "# cleaned['COUNT']=cleaned.groupby(['LAT','LON'])['LAT','LON'].transform('count')\n",
    "# cleaned=cleaned.drop_duplicates()\n",
    "NYC_COORDINATES=[40.8448, -73.8648]\n",
    "# create empty map zoomed in on San Francisco\n",
    "map = folium.Map(location=NYC_COORDINATES, zoom_start=5)\n",
    "# icon = folium.features.CustomIcon(icon_url,\n",
    "#                                       icon_size=(14, 14))\n",
    "# add a marker for every record in the filtered data, use a clustered view\n",
    "cleaned.apply(lambda row:folium.Marker(location=[row[\"Latitude\"], row[\"Longitude\"]]).add_to(map),axis = 1)\n",
    "\n",
    "subway.apply(lambda row:folium.Marker(location=[row[\"Station Latitude\"], row[\"Station Longitude\"]],\\\n",
    "                                      icon=folium.Icon(color='red',icon='info-sign')).add_to(map),axis = 1)\n",
    "\n",
    "\n",
    "display(map)\n",
    "#map.save('map.html')\n",
    "#map.create_map(path='map.html')"
   ]
  },
  {
   "cell_type": "code",
   "execution_count": null,
   "metadata": {},
   "outputs": [],
   "source": []
  }
 ],
 "metadata": {
  "kernelspec": {
   "display_name": "Python 3",
   "language": "python",
   "name": "python3"
  },
  "language_info": {
   "codemirror_mode": {
    "name": "ipython",
    "version": 3
   },
   "file_extension": ".py",
   "mimetype": "text/x-python",
   "name": "python",
   "nbconvert_exporter": "python",
   "pygments_lexer": "ipython3",
   "version": "3.6.0"
  }
 },
 "nbformat": 4,
 "nbformat_minor": 2
}
